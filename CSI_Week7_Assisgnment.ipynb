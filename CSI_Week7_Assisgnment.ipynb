{
  "nbformat": 4,
  "nbformat_minor": 0,
  "metadata": {
    "colab": {
      "provenance": [],
      "gpuType": "T4",
      "authorship_tag": "ABX9TyOMX2IfBd4hnj9UbDeioDrO",
      "include_colab_link": true
    },
    "kernelspec": {
      "name": "python3",
      "display_name": "Python 3"
    },
    "language_info": {
      "name": "python"
    },
    "accelerator": "GPU"
  },
  "cells": [
    {
      "cell_type": "markdown",
      "metadata": {
        "id": "view-in-github",
        "colab_type": "text"
      },
      "source": [
        "<a href=\"https://colab.research.google.com/github/A-r-y-a-n-R-o-y/CSI_Week7_Assisgnment/blob/main/CSI_Week7_Assisgnment.ipynb\" target=\"_parent\"><img src=\"https://colab.research.google.com/assets/colab-badge.svg\" alt=\"Open In Colab\"/></a>"
      ]
    },
    {
      "cell_type": "code",
      "execution_count": null,
      "metadata": {
        "id": "mv3sC5oMfz5c"
      },
      "outputs": [],
      "source": [
        "!pip install streamlit pyngrok scikit-learn pandas joblib --quiet\n"
      ]
    },
    {
      "cell_type": "code",
      "source": [
        "import pandas as pd\n",
        "from sklearn.datasets import load_iris\n",
        "from sklearn.ensemble import RandomForestClassifier\n",
        "import joblib\n",
        "\n",
        "\n",
        "iris = load_iris()\n",
        "X, y = iris.data, iris.target\n",
        "\n",
        "\n",
        "model = RandomForestClassifier()\n",
        "model.fit(X, y)\n",
        "\n",
        "joblib.dump(model, 'iris_model.pkl')\n"
      ],
      "metadata": {
        "colab": {
          "base_uri": "https://localhost:8080/"
        },
        "id": "Yjxt6LkCgnRS",
        "outputId": "5b253d89-c1a0-4f40-d885-fb302f872dd8"
      },
      "execution_count": null,
      "outputs": [
        {
          "output_type": "execute_result",
          "data": {
            "text/plain": [
              "['iris_model.pkl']"
            ]
          },
          "metadata": {},
          "execution_count": 3
        }
      ]
    },
    {
      "cell_type": "code",
      "source": [
        "%%writefile app.py\n",
        "import streamlit as st\n",
        "import numpy as np\n",
        "import joblib\n",
        "\n",
        "\n",
        "model = joblib.load('iris_model.pkl')\n",
        "classes = ['Setosa', 'Versicolor', 'Virginica']\n",
        "\n",
        "st.title(\"🌸 Iris Flower Classifier\")\n",
        "st.write(\"Enter flower features to classify its species.\")\n",
        "\n",
        "\n",
        "sl = st.slider('Sepal length (cm)', 4.0, 8.0, 5.1)\n",
        "sw = st.slider('Sepal width (cm)', 2.0, 4.5, 3.5)\n",
        "pl = st.slider('Petal length (cm)', 1.0, 7.0, 1.4)\n",
        "pw = st.slider('Petal width (cm)', 0.1, 2.5, 0.2)\n",
        "\n",
        "\n",
        "input_data = np.array([[sl, sw, pl, pw]])\n",
        "pred = model.predict(input_data)[0]\n",
        "proba = model.predict_proba(input_data)[0]\n",
        "\n",
        "st.subheader(\"Prediction\")\n",
        "st.write(f\"The flower is **{classes[pred]}**\")\n",
        "\n",
        "st.subheader(\"Prediction Probabilities\")\n",
        "st.bar_chart(proba)\n"
      ],
      "metadata": {
        "colab": {
          "base_uri": "https://localhost:8080/"
        },
        "id": "tPUdmqaqgoKQ",
        "outputId": "aea8f70d-a058-4cf5-f2be-7b4a5dfc24d7"
      },
      "execution_count": null,
      "outputs": [
        {
          "output_type": "stream",
          "name": "stdout",
          "text": [
            "Writing app.py\n"
          ]
        }
      ]
    }
  ]
}